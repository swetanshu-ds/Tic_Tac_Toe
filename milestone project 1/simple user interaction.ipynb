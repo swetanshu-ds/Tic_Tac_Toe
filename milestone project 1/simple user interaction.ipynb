{
 "cells": [
  {
   "cell_type": "code",
   "execution_count": 1,
   "id": "8096fc02",
   "metadata": {},
   "outputs": [],
   "source": [
    "game_list=[0,1,2]"
   ]
  },
  {
   "cell_type": "code",
   "execution_count": 2,
   "id": "b1914d68",
   "metadata": {},
   "outputs": [],
   "source": [
    "def display_game(game_list):\n",
    "    print(\"here is the current list: \")\n",
    "    print(game_list)"
   ]
  },
  {
   "cell_type": "code",
   "execution_count": 3,
   "id": "be11c778",
   "metadata": {},
   "outputs": [
    {
     "name": "stdout",
     "output_type": "stream",
     "text": [
      "here is the current list: \n",
      "[0, 1, 2]\n"
     ]
    }
   ],
   "source": [
    "display_game(game_list)"
   ]
  },
  {
   "cell_type": "code",
   "execution_count": 7,
   "id": "aae00802",
   "metadata": {},
   "outputs": [],
   "source": [
    "def position_choice():\n",
    "    \n",
    "    choice =\"Wrong\"\n",
    "\n",
    "    while choice not in ['0','1','2']:\n",
    "        \n",
    "         choice=input(\"pick a position (0,1,2): \")\n",
    "            \n",
    "         if choice not in ['0','1','2']:\n",
    "            print(\"sorry,invalid choice:\")\n",
    "    return int(choice)       "
   ]
  },
  {
   "cell_type": "code",
   "execution_count": 8,
   "id": "70125121",
   "metadata": {},
   "outputs": [
    {
     "name": "stdout",
     "output_type": "stream",
     "text": [
      "pick a position (0,1,2): two\n",
      "sorry,invalid choice:\n",
      "pick a position (0,1,2): 234\n",
      "sorry,invalid choice:\n",
      "pick a position (0,1,2): 0\n"
     ]
    },
    {
     "data": {
      "text/plain": [
       "0"
      ]
     },
     "execution_count": 8,
     "metadata": {},
     "output_type": "execute_result"
    }
   ],
   "source": [
    "position_choice()"
   ]
  },
  {
   "cell_type": "code",
   "execution_count": 9,
   "id": "2285f8b4",
   "metadata": {},
   "outputs": [],
   "source": [
    "def replacement_choice(game_list,position):\n",
    "    \n",
    "    user_placement=input(\"type a string to place at postion:\")\n",
    "    \n",
    "    game_list[position]=user_placement\n",
    "    return game_list"
   ]
  },
  {
   "cell_type": "code",
   "execution_count": 10,
   "id": "25bff0d6",
   "metadata": {},
   "outputs": [
    {
     "name": "stdout",
     "output_type": "stream",
     "text": [
      "type a string to place at postion:test\n"
     ]
    },
    {
     "data": {
      "text/plain": [
       "[0, 'test', 2]"
      ]
     },
     "execution_count": 10,
     "metadata": {},
     "output_type": "execute_result"
    }
   ],
   "source": [
    "replacement_choice(game_list,1)"
   ]
  },
  {
   "cell_type": "code",
   "execution_count": 23,
   "id": "91010f7b",
   "metadata": {},
   "outputs": [],
   "source": [
    "def gameon_choice():\n",
    "    \n",
    "    choice =\"Wrong\"\n",
    "\n",
    "    while choice not in ['Y','N']:\n",
    "        \n",
    "        choice=input(\"Keep playing?(Y pr N)\")\n",
    "            \n",
    "        if choice not in ['Y','N']:\n",
    "            print(\"sorry, I don't undertand ,please choose Y or N \")\n",
    "    if choice==\"Y\":\n",
    "            return True\n",
    "    else:\n",
    "            return False"
   ]
  },
  {
   "cell_type": "code",
   "execution_count": 25,
   "id": "4b09d321",
   "metadata": {},
   "outputs": [
    {
     "name": "stdout",
     "output_type": "stream",
     "text": [
      "Keep playing?(Y pr N)mkchakca\n",
      "sorry, I don't undertand ,please choose Y or N \n",
      "Keep playing?(Y pr N)masnjcsak\n",
      "sorry, I don't undertand ,please choose Y or N \n",
      "Keep playing?(Y pr N)amlscjkasncjkas\n",
      "sorry, I don't undertand ,please choose Y or N \n",
      "Keep playing?(Y pr N)ajcnjasncikas\n",
      "sorry, I don't undertand ,please choose Y or N \n",
      "Keep playing?(Y pr N)True\n",
      "sorry, I don't undertand ,please choose Y or N \n",
      "Keep playing?(Y pr N)Y\n"
     ]
    },
    {
     "data": {
      "text/plain": [
       "True"
      ]
     },
     "execution_count": 25,
     "metadata": {},
     "output_type": "execute_result"
    }
   ],
   "source": [
    "gameon_choice()"
   ]
  },
  {
   "cell_type": "code",
   "execution_count": 27,
   "id": "7562f387",
   "metadata": {},
   "outputs": [
    {
     "name": "stdout",
     "output_type": "stream",
     "text": [
      "here is the current list: \n",
      "[0, 1, 2]\n",
      "pick a position (0,1,2): ahjdcbha\n",
      "sorry,invalid choice:\n",
      "pick a position (0,1,2): 2\n",
      "type a string to place at postion:mychoice\n",
      "here is the current list: \n",
      "[0, 1, 'mychoice']\n",
      "Keep playing?(Y pr N)Y\n",
      "here is the current list: \n",
      "[0, 1, 'mychoice']\n",
      "pick a position (0,1,2): 1\n",
      "type a string to place at postion:test\n",
      "here is the current list: \n",
      "[0, 'test', 'mychoice']\n",
      "Keep playing?(Y pr N)ackca\n",
      "sorry, I don't undertand ,please choose Y or N \n",
      "Keep playing?(Y pr N)N\n"
     ]
    }
   ],
   "source": [
    "game_on=True\n",
    "\n",
    "game_list=[0,1,2]\n",
    "\n",
    "while game_on:\n",
    "    \n",
    "    display_game(game_list)\n",
    "    \n",
    "    position =position_choice()\n",
    "    \n",
    "    game_list=replacement_choice(game_list,position)\n",
    "    \n",
    "    display_game(game_list)\n",
    "    \n",
    "    game_on=gameon_choice()"
   ]
  }
 ],
 "metadata": {
  "kernelspec": {
   "display_name": "Python 3",
   "language": "python",
   "name": "python3"
  },
  "language_info": {
   "codemirror_mode": {
    "name": "ipython",
    "version": 3
   },
   "file_extension": ".py",
   "mimetype": "text/x-python",
   "name": "python",
   "nbconvert_exporter": "python",
   "pygments_lexer": "ipython3",
   "version": "3.8.8"
  }
 },
 "nbformat": 4,
 "nbformat_minor": 5
}
