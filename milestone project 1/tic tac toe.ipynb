{
 "cells": [
  {
   "cell_type": "code",
   "execution_count": 15,
   "id": "6e409d2d",
   "metadata": {},
   "outputs": [],
   "source": [
    "def display_board(board):\n",
    "    print(board[7] + \"|\" + board[8] + \"|\" + board[9])\n",
    "    print(\" \"+ \"|\" +\" \"+ \"|\" + \" \")       \n",
    "    print(\"-----\")\n",
    "    print(board[4] + \"|\" + board[5] + \"|\" + board[6])\n",
    "    print(\" \"+ \"|\" +\" \"+ \"|\" + \" \")    \n",
    "    print(\"-----\")\n",
    "    print(board[1] + \"|\" + board[2] + \"|\" + board[3])\n",
    "    print(\" \"+ \"|\" +\" \"+ \"|\" + \" \")   "
   ]
  },
  {
   "cell_type": "code",
   "execution_count": 16,
   "id": "99c842de",
   "metadata": {},
   "outputs": [],
   "source": [
    "board=[\" \"]*10"
   ]
  },
  {
   "cell_type": "code",
   "execution_count": 17,
   "id": "c05e483e",
   "metadata": {},
   "outputs": [
    {
     "name": "stdout",
     "output_type": "stream",
     "text": [
      " | | \n",
      " | | \n",
      "-----\n",
      " | | \n",
      " | | \n",
      "-----\n",
      " | | \n",
      " | | \n"
     ]
    }
   ],
   "source": [
    "display_board(board)"
   ]
  },
  {
   "cell_type": "code",
   "execution_count": 18,
   "id": "55d77932",
   "metadata": {},
   "outputs": [],
   "source": [
    "def player_input():\n",
    "    marker=\" \"\n",
    "    while marker!=\"X\" and marker!=\"O\":\n",
    "        marker=input(\"player 1 ,enter X or O:\")\n",
    "        player1=marker\n",
    "    if player1=='X':\n",
    "            player2=\"O\"\n",
    "    else:\n",
    "            player2=\"X\"\n",
    "    return(player1,player2)    "
   ]
  },
  {
   "cell_type": "code",
   "execution_count": 19,
   "id": "04ba2f3c",
   "metadata": {},
   "outputs": [
    {
     "name": "stdout",
     "output_type": "stream",
     "text": [
      "player 1 ,enter X or O:X\n"
     ]
    }
   ],
   "source": [
    "player1_marker,player2_marker=player_input()"
   ]
  },
  {
   "cell_type": "code",
   "execution_count": 20,
   "id": "4b22459d",
   "metadata": {},
   "outputs": [
    {
     "data": {
      "text/plain": [
       "'O'"
      ]
     },
     "execution_count": 20,
     "metadata": {},
     "output_type": "execute_result"
    }
   ],
   "source": [
    "player2_marker"
   ]
  },
  {
   "cell_type": "code",
   "execution_count": 21,
   "id": "80184669",
   "metadata": {},
   "outputs": [
    {
     "data": {
      "text/plain": [
       "'X'"
      ]
     },
     "execution_count": 21,
     "metadata": {},
     "output_type": "execute_result"
    }
   ],
   "source": [
    "player1_marker"
   ]
  },
  {
   "cell_type": "code",
   "execution_count": 28,
   "id": "479de24b",
   "metadata": {},
   "outputs": [],
   "source": [
    "import random\n",
    "def choose_first():\n",
    "    if random.randint(0,1)==0:\n",
    "        return 'Player2'\n",
    "    else:\n",
    "        return 'Player1'"
   ]
  },
  {
   "cell_type": "code",
   "execution_count": 29,
   "id": "edff9df4",
   "metadata": {},
   "outputs": [
    {
     "data": {
      "text/plain": [
       "'Player1'"
      ]
     },
     "execution_count": 29,
     "metadata": {},
     "output_type": "execute_result"
    }
   ],
   "source": [
    "choose_first()"
   ]
  },
  {
   "cell_type": "code",
   "execution_count": 30,
   "id": "17efe888",
   "metadata": {},
   "outputs": [],
   "source": [
    "def place_marker(test_board,marker,position):\n",
    "    test_board[position]=marker"
   ]
  },
  {
   "cell_type": "code",
   "execution_count": 31,
   "id": "197ebf9b",
   "metadata": {},
   "outputs": [],
   "source": [
    "place_marker(board,\"X\",2)"
   ]
  },
  {
   "cell_type": "code",
   "execution_count": 32,
   "id": "f908e3da",
   "metadata": {},
   "outputs": [
    {
     "name": "stdout",
     "output_type": "stream",
     "text": [
      " | | \n",
      " | | \n",
      "-----\n",
      " | | \n",
      " | | \n",
      "-----\n",
      " |X| \n",
      " | | \n"
     ]
    }
   ],
   "source": [
    "display_board(board)"
   ]
  },
  {
   "cell_type": "code",
   "execution_count": 35,
   "id": "7f4b1c49",
   "metadata": {},
   "outputs": [],
   "source": [
    "def win_check(test_board,mark):\n",
    "        return((test_board[7]==mark and test_board[7]==mark and  test_board[7]==mark) or\n",
    "               (test_board[6]==mark and test_board[5]==mark and  test_board[4]==mark) or\n",
    "               (test_board[3]==mark and test_board[2]==mark and  test_board[1]==mark) or\n",
    "               (test_board[1]==mark and test_board[5]==mark and  test_board[9]==mark) or\n",
    "               (test_board[3]==mark and test_board[5]==mark and  test_board[7]==mark) or\n",
    "               (test_board[1]==mark and test_board[4]==mark and  test_board[7]==mark) or\n",
    "               (test_board[2]==mark and test_board[5]==mark and  test_board[8]==mark) or\n",
    "               (test_board[3]==mark and test_board[6]==mark and  test_board[9]==mark))"
   ]
  },
  {
   "cell_type": "code",
   "execution_count": 36,
   "id": "4cd87c16",
   "metadata": {},
   "outputs": [],
   "source": [
    "def space_free(board,position):\n",
    "    if board[position]==\" \":\n",
    "        return True  \n",
    "    else:\n",
    "        return False"
   ]
  },
  {
   "cell_type": "code",
   "execution_count": 38,
   "id": "791cf362",
   "metadata": {},
   "outputs": [
    {
     "data": {
      "text/plain": [
       "True"
      ]
     },
     "execution_count": 38,
     "metadata": {},
     "output_type": "execute_result"
    }
   ],
   "source": [
    "space_free(board,3)"
   ]
  },
  {
   "cell_type": "code",
   "execution_count": 43,
   "id": "3e4ee07e",
   "metadata": {},
   "outputs": [],
   "source": [
    "def full_board_check(board):\n",
    "    for i in range(1,10):\n",
    "        if space_free(board,i):\n",
    "            return False\n",
    "    return True   "
   ]
  },
  {
   "cell_type": "code",
   "execution_count": 44,
   "id": "8d724a12",
   "metadata": {},
   "outputs": [
    {
     "data": {
      "text/plain": [
       "False"
      ]
     },
     "execution_count": 44,
     "metadata": {},
     "output_type": "execute_result"
    }
   ],
   "source": [
    "full_board_check(board)"
   ]
  },
  {
   "cell_type": "code",
   "execution_count": 45,
   "id": "96e25ab8",
   "metadata": {},
   "outputs": [],
   "source": [
    "def player_choice(board):\n",
    "    position =0\n",
    "    while position not in range(1,10) or not space_free(board,position):\n",
    "            position=int(input(\"choose your next position:(1-9) \"))\n",
    "    return position        "
   ]
  },
  {
   "cell_type": "code",
   "execution_count": 46,
   "id": "b1abeb23",
   "metadata": {},
   "outputs": [],
   "source": [
    "def replay():\n",
    "    return input('Do you want to play again? Enter Yes or No: ').lower().startswith('y')"
   ]
  },
  {
   "cell_type": "code",
   "execution_count": 47,
   "id": "1140ce9d",
   "metadata": {},
   "outputs": [
    {
     "name": "stdout",
     "output_type": "stream",
     "text": [
      "Do you want to play again? Enter Yes or No: y\n"
     ]
    },
    {
     "data": {
      "text/plain": [
       "True"
      ]
     },
     "execution_count": 47,
     "metadata": {},
     "output_type": "execute_result"
    }
   ],
   "source": [
    "replay()"
   ]
  },
  {
   "cell_type": "code",
   "execution_count": 49,
   "id": "a8c22ae9",
   "metadata": {},
   "outputs": [
    {
     "name": "stdout",
     "output_type": "stream",
     "text": [
      "choose your next position:(1-9) 2\n",
      "choose your next position:(1-9) 2\n",
      "choose your next position:(1-9) 1\n"
     ]
    },
    {
     "data": {
      "text/plain": [
       "1"
      ]
     },
     "execution_count": 49,
     "metadata": {},
     "output_type": "execute_result"
    }
   ],
   "source": [
    "player_choice(board)"
   ]
  },
  {
   "cell_type": "code",
   "execution_count": 51,
   "id": "298a3f8b",
   "metadata": {},
   "outputs": [
    {
     "name": "stdout",
     "output_type": "stream",
     "text": [
      "welcome to Tic Tac Toe\n",
      "player 1 ,enter X or O:O\n",
      "Player1 will go first\n",
      "Are you  ready to play?YES or NO.YES\n",
      " | | \n",
      " | | \n",
      "-----\n",
      " | | \n",
      " | | \n",
      "-----\n",
      " | | \n",
      " | | \n",
      "choose your next position:(1-9) 3\n",
      " | | \n",
      " | | \n",
      "-----\n",
      " | | \n",
      " | | \n",
      "-----\n",
      " | |X\n",
      " | | \n",
      "choose your next position:(1-9) 1\n",
      " | | \n",
      " | | \n",
      "-----\n",
      " | | \n",
      " | | \n",
      "-----\n",
      "O| |X\n",
      " | | \n",
      "choose your next position:(1-9) 2\n",
      " | | \n",
      " | | \n",
      "-----\n",
      " | | \n",
      " | | \n",
      "-----\n",
      "O|X|X\n",
      " | | \n",
      "choose your next position:(1-9) 1\n",
      "choose your next position:(1-9) 4\n",
      " | | \n",
      " | | \n",
      "-----\n",
      "O| | \n",
      " | | \n",
      "-----\n",
      "O|X|X\n",
      " | | \n",
      "choose your next position:(1-9) 5\n",
      " | | \n",
      " | | \n",
      "-----\n",
      "O|X| \n",
      " | | \n",
      "-----\n",
      "O|X|X\n",
      " | | \n",
      "choose your next position:(1-9) 6\n",
      " | | \n",
      " | | \n",
      "-----\n",
      "O|X|O\n",
      " | | \n",
      "-----\n",
      "O|X|X\n",
      " | | \n",
      "choose your next position:(1-9) 9\n",
      " | |X\n",
      " | | \n",
      "-----\n",
      "O|X|O\n",
      " | | \n",
      "-----\n",
      "O|X|X\n",
      " | | \n",
      "choose your next position:(1-9) 8\n",
      " |O|X\n",
      " | | \n",
      "-----\n",
      "O|X|O\n",
      " | | \n",
      "-----\n",
      "O|X|X\n",
      " | | \n",
      "choose your next position:(1-9) 9\n",
      "choose your next position:(1-9) 7\n",
      "X|O|X\n",
      " | | \n",
      "-----\n",
      "O|X|O\n",
      " | | \n",
      "-----\n",
      "O|X|X\n",
      " | | \n",
      "player 2 you won\n",
      "Do you want to play again? Enter Yes or No: No\n"
     ]
    }
   ],
   "source": [
    "print(\"welcome to Tic Tac Toe\")\n",
    "\n",
    "while True:\n",
    "    theBoard=[\" \"]*10\n",
    "    player1_marker,player2_marker=player_input()\n",
    "    turn =choose_first()\n",
    "    print(turn +\" will go first\")\n",
    "    play_game=input(\"Are you  ready to play?YES or NO.\")\n",
    "    if play_game=='YES':\n",
    "        game_on=True\n",
    "    else:\n",
    "        game_on=False\n",
    "    while game_on:\n",
    "        if turn==\"Player 1\":\n",
    "            display_board(theBoard)\n",
    "            position=player_choice(theBoard)\n",
    "            place_marker(theBoard,player1_marker,position)\n",
    "            if win_check(theBoard,player1_marker):\n",
    "                display_board(theBoard)\n",
    "                print(\"COngrats\")\n",
    "                game_on=False\n",
    "            else:\n",
    "                if full_board_check(theBoard):\n",
    "                    display_board(theBoard)\n",
    "                    print(\"draw\")\n",
    "                    break\n",
    "                else:\n",
    "                    turn=\"Player 2\"\n",
    "        else:\n",
    "              display_board(theBoard)\n",
    "              position=player_choice(theBoard)\n",
    "              place_marker(theBoard,player2_marker,position)\n",
    "              \n",
    "              if win_check(theBoard,player2_marker):\n",
    "                    display_board(theBoard)\n",
    "                    print(\"player 2 you won\")\n",
    "                    game_on=False\n",
    "              else:\n",
    "                    if full_board_check(theBoard):\n",
    "                        display_board(theBoard)\n",
    "                        print(\"draw\")\n",
    "                        break\n",
    "                    else:\n",
    "                        turn=\"Player 1\"\n",
    "                        \n",
    "                        \n",
    "    if not replay():\n",
    "        break"
   ]
  },
  {
   "cell_type": "code",
   "execution_count": null,
   "id": "78632c78",
   "metadata": {},
   "outputs": [],
   "source": []
  },
  {
   "cell_type": "code",
   "execution_count": null,
   "id": "19c972d5",
   "metadata": {},
   "outputs": [],
   "source": []
  }
 ],
 "metadata": {
  "kernelspec": {
   "display_name": "Python 3",
   "language": "python",
   "name": "python3"
  },
  "language_info": {
   "codemirror_mode": {
    "name": "ipython",
    "version": 3
   },
   "file_extension": ".py",
   "mimetype": "text/x-python",
   "name": "python",
   "nbconvert_exporter": "python",
   "pygments_lexer": "ipython3",
   "version": "3.8.8"
  }
 },
 "nbformat": 4,
 "nbformat_minor": 5
}
