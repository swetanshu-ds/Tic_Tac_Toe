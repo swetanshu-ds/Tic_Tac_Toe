{
 "cells": [
  {
   "cell_type": "code",
   "execution_count": 15,
   "id": "28a9ecc1",
   "metadata": {},
   "outputs": [
    {
     "name": "stdout",
     "output_type": "stream",
     "text": [
      "[1, 2, 3]\n"
     ]
    }
   ],
   "source": [
    "print([1,2,3])"
   ]
  },
  {
   "cell_type": "code",
   "execution_count": 16,
   "id": "eba6990a",
   "metadata": {},
   "outputs": [
    {
     "name": "stdout",
     "output_type": "stream",
     "text": [
      "[1, 2, 3]\n",
      "[4, 5, 6]\n",
      "[7, 8, 9]\n"
     ]
    }
   ],
   "source": [
    "print([1,2,3])\n",
    "print([4,5,6])\n",
    "print([7,8,9])"
   ]
  },
  {
   "cell_type": "code",
   "execution_count": 17,
   "id": "799d2e06",
   "metadata": {},
   "outputs": [],
   "source": [
    "def display(row1,row2,row3):\n",
    "        print(row1)\n",
    "        print(row2)\n",
    "        print(row3)"
   ]
  },
  {
   "cell_type": "code",
   "execution_count": 18,
   "id": "dd42fc9a",
   "metadata": {},
   "outputs": [
    {
     "name": "stdout",
     "output_type": "stream",
     "text": [
      "[1, 2, 3]\n",
      "[1, 2, 3]\n",
      "[1, 2, 3]\n"
     ]
    }
   ],
   "source": [
    "example_row=[1,2,3]\n",
    "display(example_row,example_row,example_row)"
   ]
  },
  {
   "cell_type": "code",
   "execution_count": 19,
   "id": "50a29d4a",
   "metadata": {},
   "outputs": [],
   "source": [
    "row1=[' ',' ',' ']\n",
    "row2=[' ',' ',' ']\n",
    "row3=[' ',' ',' ']"
   ]
  },
  {
   "cell_type": "code",
   "execution_count": 20,
   "id": "5db52eb9",
   "metadata": {},
   "outputs": [
    {
     "name": "stdout",
     "output_type": "stream",
     "text": [
      "[' ', ' ', ' ']\n",
      "[' ', ' ', ' ']\n",
      "[' ', ' ', ' ']\n"
     ]
    }
   ],
   "source": [
    "display(row1,row2,row3)"
   ]
  },
  {
   "cell_type": "code",
   "execution_count": 21,
   "id": "e691b94a",
   "metadata": {},
   "outputs": [],
   "source": [
    "row2[1]='X'"
   ]
  },
  {
   "cell_type": "code",
   "execution_count": 22,
   "id": "d49a6275",
   "metadata": {},
   "outputs": [
    {
     "name": "stdout",
     "output_type": "stream",
     "text": [
      "[' ', ' ', ' ']\n",
      "[' ', 'X', ' ']\n",
      "[' ', ' ', ' ']\n"
     ]
    }
   ],
   "source": [
    "display(row1,row2,row3)"
   ]
  },
  {
   "cell_type": "markdown",
   "id": "21a2ac03",
   "metadata": {},
   "source": [
    "# accepting the user input"
   ]
  },
  {
   "cell_type": "code",
   "execution_count": 23,
   "id": "a374d255",
   "metadata": {},
   "outputs": [
    {
     "name": "stdout",
     "output_type": "stream",
     "text": [
      "please enter a value:2\n"
     ]
    },
    {
     "data": {
      "text/plain": [
       "'2'"
      ]
     },
     "execution_count": 23,
     "metadata": {},
     "output_type": "execute_result"
    }
   ],
   "source": [
    "input(\"please enter a value:\")"
   ]
  },
  {
   "cell_type": "code",
   "execution_count": 24,
   "id": "4925ed36",
   "metadata": {},
   "outputs": [
    {
     "name": "stdout",
     "output_type": "stream",
     "text": [
      "please enter a value:2\n"
     ]
    }
   ],
   "source": [
    "result=input(\"please enter a value:\")"
   ]
  },
  {
   "cell_type": "code",
   "execution_count": 25,
   "id": "7c9c662a",
   "metadata": {},
   "outputs": [
    {
     "data": {
      "text/plain": [
       "'2'"
      ]
     },
     "execution_count": 25,
     "metadata": {},
     "output_type": "execute_result"
    }
   ],
   "source": [
    "result"
   ]
  },
  {
   "cell_type": "code",
   "execution_count": 26,
   "id": "3e1e75ab",
   "metadata": {},
   "outputs": [
    {
     "data": {
      "text/plain": [
       "str"
      ]
     },
     "execution_count": 26,
     "metadata": {},
     "output_type": "execute_result"
    }
   ],
   "source": [
    "type(result)"
   ]
  },
  {
   "cell_type": "code",
   "execution_count": 65,
   "id": "5750e391",
   "metadata": {},
   "outputs": [
    {
     "name": "stdout",
     "output_type": "stream",
     "text": [
      "enter value:2\n"
     ]
    }
   ],
   "source": [
    "result=input(\"enter value:\")"
   ]
  },
  {
   "cell_type": "code",
   "execution_count": 29,
   "id": "5f70f371",
   "metadata": {},
   "outputs": [],
   "source": [
    "result_int=int(result)"
   ]
  },
  {
   "cell_type": "code",
   "execution_count": 30,
   "id": "5122dd01",
   "metadata": {},
   "outputs": [
    {
     "data": {
      "text/plain": [
       "str"
      ]
     },
     "execution_count": 30,
     "metadata": {},
     "output_type": "execute_result"
    }
   ],
   "source": [
    "type(result)"
   ]
  },
  {
   "cell_type": "code",
   "execution_count": 31,
   "id": "3ffaf703",
   "metadata": {},
   "outputs": [
    {
     "data": {
      "text/plain": [
       "int"
      ]
     },
     "execution_count": 31,
     "metadata": {},
     "output_type": "execute_result"
    }
   ],
   "source": [
    "type(result_int)"
   ]
  },
  {
   "cell_type": "code",
   "execution_count": 32,
   "id": "8350cf2d",
   "metadata": {},
   "outputs": [
    {
     "data": {
      "text/plain": [
       "float"
      ]
     },
     "execution_count": 32,
     "metadata": {},
     "output_type": "execute_result"
    }
   ],
   "source": [
    "type(2.3)"
   ]
  },
  {
   "cell_type": "code",
   "execution_count": 33,
   "id": "b2f72604",
   "metadata": {},
   "outputs": [
    {
     "data": {
      "text/plain": [
       "3.14"
      ]
     },
     "execution_count": 33,
     "metadata": {},
     "output_type": "execute_result"
    }
   ],
   "source": [
    "float('3.14')"
   ]
  },
  {
   "cell_type": "code",
   "execution_count": 34,
   "id": "b23c5c60",
   "metadata": {},
   "outputs": [
    {
     "name": "stdout",
     "output_type": "stream",
     "text": [
      "choose an index position:1\n"
     ]
    }
   ],
   "source": [
    "position_index=input(\"choose an index position:\")"
   ]
  },
  {
   "cell_type": "code",
   "execution_count": 35,
   "id": "80e5714a",
   "metadata": {},
   "outputs": [
    {
     "data": {
      "text/plain": [
       "[' ', ' ', ' ']"
      ]
     },
     "execution_count": 35,
     "metadata": {},
     "output_type": "execute_result"
    }
   ],
   "source": [
    "row1 "
   ]
  },
  {
   "cell_type": "code",
   "execution_count": 36,
   "id": "114af3ae",
   "metadata": {},
   "outputs": [
    {
     "data": {
      "text/plain": [
       "' '"
      ]
     },
     "execution_count": 36,
     "metadata": {},
     "output_type": "execute_result"
    }
   ],
   "source": [
    "row1[1]"
   ]
  },
  {
   "cell_type": "code",
   "execution_count": 37,
   "id": "fbf1b1ff",
   "metadata": {},
   "outputs": [
    {
     "ename": "TypeError",
     "evalue": "list indices must be integers or slices, not str",
     "output_type": "error",
     "traceback": [
      "\u001b[1;31m---------------------------------------------------------------------------\u001b[0m",
      "\u001b[1;31mTypeError\u001b[0m                                 Traceback (most recent call last)",
      "\u001b[1;32m<ipython-input-37-6450042da9fb>\u001b[0m in \u001b[0;36m<module>\u001b[1;34m\u001b[0m\n\u001b[1;32m----> 1\u001b[1;33m \u001b[0mrow1\u001b[0m\u001b[1;33m[\u001b[0m\u001b[0mposition_index\u001b[0m\u001b[1;33m]\u001b[0m\u001b[1;33m\u001b[0m\u001b[1;33m\u001b[0m\u001b[0m\n\u001b[0m",
      "\u001b[1;31mTypeError\u001b[0m: list indices must be integers or slices, not str"
     ]
    }
   ],
   "source": [
    "row1[position_index]"
   ]
  },
  {
   "cell_type": "code",
   "execution_count": 39,
   "id": "5f3509c8",
   "metadata": {},
   "outputs": [
    {
     "name": "stdout",
     "output_type": "stream",
     "text": [
      "choose an index position:2\n"
     ]
    }
   ],
   "source": [
    "position_index=int(input(\"choose an index position:\"))"
   ]
  },
  {
   "cell_type": "code",
   "execution_count": 40,
   "id": "681eab82",
   "metadata": {},
   "outputs": [
    {
     "data": {
      "text/plain": [
       "int"
      ]
     },
     "execution_count": 40,
     "metadata": {},
     "output_type": "execute_result"
    }
   ],
   "source": [
    "type(position_index)"
   ]
  },
  {
   "cell_type": "code",
   "execution_count": 41,
   "id": "3375509d",
   "metadata": {},
   "outputs": [
    {
     "data": {
      "text/plain": [
       "' '"
      ]
     },
     "execution_count": 41,
     "metadata": {},
     "output_type": "execute_result"
    }
   ],
   "source": [
    "row2[position_index]"
   ]
  },
  {
   "cell_type": "code",
   "execution_count": 42,
   "id": "f9cf3d4b",
   "metadata": {},
   "outputs": [
    {
     "name": "stdout",
     "output_type": "stream",
     "text": [
      "choose an index position:two\n"
     ]
    },
    {
     "ename": "ValueError",
     "evalue": "invalid literal for int() with base 10: 'two'",
     "output_type": "error",
     "traceback": [
      "\u001b[1;31m---------------------------------------------------------------------------\u001b[0m",
      "\u001b[1;31mValueError\u001b[0m                                Traceback (most recent call last)",
      "\u001b[1;32m<ipython-input-42-a8afd1cd2963>\u001b[0m in \u001b[0;36m<module>\u001b[1;34m\u001b[0m\n\u001b[1;32m----> 1\u001b[1;33m \u001b[0mposition_index\u001b[0m\u001b[1;33m=\u001b[0m\u001b[0mint\u001b[0m\u001b[1;33m(\u001b[0m\u001b[0minput\u001b[0m\u001b[1;33m(\u001b[0m\u001b[1;34m\"choose an index position:\"\u001b[0m\u001b[1;33m)\u001b[0m\u001b[1;33m)\u001b[0m\u001b[1;33m\u001b[0m\u001b[1;33m\u001b[0m\u001b[0m\n\u001b[0m",
      "\u001b[1;31mValueError\u001b[0m: invalid literal for int() with base 10: 'two'"
     ]
    }
   ],
   "source": [
    "position_index=int(input(\"choose an index position:\"))"
   ]
  },
  {
   "cell_type": "markdown",
   "id": "32815644",
   "metadata": {},
   "source": [
    "#  validating user input"
   ]
  },
  {
   "cell_type": "code",
   "execution_count": 44,
   "id": "1db7148c",
   "metadata": {},
   "outputs": [],
   "source": [
    "def user_choice():\n",
    "    choice =input(\"please enter  a number (0-10): \")\n",
    "    return int(choice)"
   ]
  },
  {
   "cell_type": "code",
   "execution_count": 46,
   "id": "8e74a79b",
   "metadata": {},
   "outputs": [
    {
     "name": "stdout",
     "output_type": "stream",
     "text": [
      "please enter  a number (0-10): 9\n"
     ]
    },
    {
     "data": {
      "text/plain": [
       "9"
      ]
     },
     "execution_count": 46,
     "metadata": {},
     "output_type": "execute_result"
    }
   ],
   "source": [
    "user_choice()"
   ]
  },
  {
   "cell_type": "code",
   "execution_count": 47,
   "id": "b72a0da3",
   "metadata": {},
   "outputs": [
    {
     "name": "stdout",
     "output_type": "stream",
     "text": [
      "please enter  a number (0-10): nine\n"
     ]
    },
    {
     "ename": "ValueError",
     "evalue": "invalid literal for int() with base 10: 'nine'",
     "output_type": "error",
     "traceback": [
      "\u001b[1;31m---------------------------------------------------------------------------\u001b[0m",
      "\u001b[1;31mValueError\u001b[0m                                Traceback (most recent call last)",
      "\u001b[1;32m<ipython-input-47-ef2a079da9a9>\u001b[0m in \u001b[0;36m<module>\u001b[1;34m\u001b[0m\n\u001b[1;32m----> 1\u001b[1;33m \u001b[0muser_choice\u001b[0m\u001b[1;33m(\u001b[0m\u001b[1;33m)\u001b[0m\u001b[1;33m\u001b[0m\u001b[1;33m\u001b[0m\u001b[0m\n\u001b[0m",
      "\u001b[1;32m<ipython-input-44-e5a0d2e97dfa>\u001b[0m in \u001b[0;36muser_choice\u001b[1;34m()\u001b[0m\n\u001b[0;32m      1\u001b[0m \u001b[1;32mdef\u001b[0m \u001b[0muser_choice\u001b[0m\u001b[1;33m(\u001b[0m\u001b[1;33m)\u001b[0m\u001b[1;33m:\u001b[0m\u001b[1;33m\u001b[0m\u001b[1;33m\u001b[0m\u001b[0m\n\u001b[0;32m      2\u001b[0m     \u001b[0mchoice\u001b[0m \u001b[1;33m=\u001b[0m\u001b[0minput\u001b[0m\u001b[1;33m(\u001b[0m\u001b[1;34m\"please enter  a number (0-10): \"\u001b[0m\u001b[1;33m)\u001b[0m\u001b[1;33m\u001b[0m\u001b[1;33m\u001b[0m\u001b[0m\n\u001b[1;32m----> 3\u001b[1;33m     \u001b[1;32mreturn\u001b[0m \u001b[0mint\u001b[0m\u001b[1;33m(\u001b[0m\u001b[0mchoice\u001b[0m\u001b[1;33m)\u001b[0m\u001b[1;33m\u001b[0m\u001b[1;33m\u001b[0m\u001b[0m\n\u001b[0m",
      "\u001b[1;31mValueError\u001b[0m: invalid literal for int() with base 10: 'nine'"
     ]
    }
   ],
   "source": [
    "user_choice()"
   ]
  },
  {
   "cell_type": "code",
   "execution_count": 48,
   "id": "327ab097",
   "metadata": {},
   "outputs": [
    {
     "name": "stdout",
     "output_type": "stream",
     "text": [
      "please enter  a number (0-10): 100\n"
     ]
    },
    {
     "data": {
      "text/plain": [
       "100"
      ]
     },
     "execution_count": 48,
     "metadata": {},
     "output_type": "execute_result"
    }
   ],
   "source": [
    "user_choice()"
   ]
  },
  {
   "cell_type": "code",
   "execution_count": 49,
   "id": "9a16c61f",
   "metadata": {},
   "outputs": [],
   "source": [
    "def user_choice():\n",
    "    choice =input(\"please enter  a number (0-10): \")\n",
    "    return int(choice)"
   ]
  },
  {
   "cell_type": "code",
   "execution_count": 50,
   "id": "64c8a1d1",
   "metadata": {},
   "outputs": [],
   "source": [
    "some_value='100'"
   ]
  },
  {
   "cell_type": "code",
   "execution_count": 51,
   "id": "715180ee",
   "metadata": {},
   "outputs": [
    {
     "data": {
      "text/plain": [
       "True"
      ]
     },
     "execution_count": 51,
     "metadata": {},
     "output_type": "execute_result"
    }
   ],
   "source": [
    "some_value.isdigit()"
   ]
  },
  {
   "cell_type": "code",
   "execution_count": 52,
   "id": "ad9eb15d",
   "metadata": {},
   "outputs": [
    {
     "data": {
      "text/plain": [
       "100"
      ]
     },
     "execution_count": 52,
     "metadata": {},
     "output_type": "execute_result"
    }
   ],
   "source": [
    "int(some_value)"
   ]
  },
  {
   "cell_type": "code",
   "execution_count": 55,
   "id": "6b8ce06b",
   "metadata": {},
   "outputs": [],
   "source": [
    "def user_choice():\n",
    "    choice='WRONG'\n",
    "    while choice.isdigit()==False:\n",
    "            choice =input(\"please enter  a number (0-10): \")\n",
    "    return int(choice)"
   ]
  },
  {
   "cell_type": "code",
   "execution_count": 56,
   "id": "8ed888c1",
   "metadata": {},
   "outputs": [
    {
     "name": "stdout",
     "output_type": "stream",
     "text": [
      "please enter  a number (0-10): two\n",
      "please enter  a number (0-10): ahjcbjhas\n",
      "please enter  a number (0-10): jadncjo\n",
      "please enter  a number (0-10): 2\n"
     ]
    },
    {
     "data": {
      "text/plain": [
       "2"
      ]
     },
     "execution_count": 56,
     "metadata": {},
     "output_type": "execute_result"
    }
   ],
   "source": [
    "user_choice()"
   ]
  },
  {
   "cell_type": "code",
   "execution_count": 57,
   "id": "d177caec",
   "metadata": {},
   "outputs": [],
   "source": [
    "def user_choice():\n",
    "    choice='WRONG'\n",
    "    while choice.isdigit()==False:\n",
    "            choice =input(\"please enter  a number (0-10): \")\n",
    "            if choice.isdigit()==False:\n",
    "                print(\"that is not a digit\")\n",
    "    return int(choice) "
   ]
  },
  {
   "cell_type": "code",
   "execution_count": 58,
   "id": "95b7ab8b",
   "metadata": {},
   "outputs": [
    {
     "name": "stdout",
     "output_type": "stream",
     "text": [
      "please enter  a number (0-10): kldal\n",
      "that is not a digit\n",
      "please enter  a number (0-10): alc\n",
      "that is not a digit\n",
      "please enter  a number (0-10): 3\n"
     ]
    },
    {
     "data": {
      "text/plain": [
       "3"
      ]
     },
     "execution_count": 58,
     "metadata": {},
     "output_type": "execute_result"
    }
   ],
   "source": [
    "user_choice()"
   ]
  },
  {
   "cell_type": "code",
   "execution_count": 59,
   "id": "8348c542",
   "metadata": {},
   "outputs": [],
   "source": [
    "result=\"Wrong value\""
   ]
  },
  {
   "cell_type": "code",
   "execution_count": 60,
   "id": "a6298513",
   "metadata": {},
   "outputs": [],
   "source": [
    "acceptable_value=[0,1,2]"
   ]
  },
  {
   "cell_type": "code",
   "execution_count": 61,
   "id": "acabf424",
   "metadata": {},
   "outputs": [
    {
     "data": {
      "text/plain": [
       "False"
      ]
     },
     "execution_count": 61,
     "metadata": {},
     "output_type": "execute_result"
    }
   ],
   "source": [
    "result in acceptable_value"
   ]
  },
  {
   "cell_type": "code",
   "execution_count": 62,
   "id": "a330fc8e",
   "metadata": {},
   "outputs": [
    {
     "data": {
      "text/plain": [
       "True"
      ]
     },
     "execution_count": 62,
     "metadata": {},
     "output_type": "execute_result"
    }
   ],
   "source": [
    "result not in acceptable_value"
   ]
  },
  {
   "cell_type": "code",
   "execution_count": 63,
   "id": "c6c005a4",
   "metadata": {},
   "outputs": [],
   "source": [
    "def user_choice():\n",
    "    # variable \n",
    "    \n",
    "    #initial \n",
    "    choice='WRONG'\n",
    "    acceptable_range=range(0,10)\n",
    "    within_range=False\n",
    "    \n",
    "    # two condition to check\n",
    "    # digit or within range==False\n",
    "    \n",
    "    \n",
    "    while choice.isdigit()==False or within_range==False:\n",
    "            \n",
    "            choice =input(\"please enter  a number (0-10): \")\n",
    "           # digit check\n",
    "        \n",
    "            if choice.isdigit()==False:\n",
    "                print(\"that is not a digit\")\n",
    "    \n",
    "          # range check\n",
    "            if choice.isdigit()==True:\n",
    "                if int(choice) in acceptable_range:\n",
    "                    within_range=True\n",
    "                else:\n",
    "                    print(\"sorry,you are out of acceptable_range (0-10)\")\n",
    "                    within_range=False\n",
    "                     \n",
    "    return int(choice) "
   ]
  },
  {
   "cell_type": "code",
   "execution_count": 64,
   "id": "f86c8108",
   "metadata": {},
   "outputs": [
    {
     "name": "stdout",
     "output_type": "stream",
     "text": [
      "please enter  a number (0-10): two\n",
      "that is not a digit\n",
      "please enter  a number (0-10): 1000\n",
      "sorry,you are out of acceptable_range (0-10)\n",
      "please enter  a number (0-10): 5\n"
     ]
    },
    {
     "data": {
      "text/plain": [
       "5"
      ]
     },
     "execution_count": 64,
     "metadata": {},
     "output_type": "execute_result"
    }
   ],
   "source": [
    "user_choice()"
   ]
  }
 ],
 "metadata": {
  "kernelspec": {
   "display_name": "Python 3",
   "language": "python",
   "name": "python3"
  },
  "language_info": {
   "codemirror_mode": {
    "name": "ipython",
    "version": 3
   },
   "file_extension": ".py",
   "mimetype": "text/x-python",
   "name": "python",
   "nbconvert_exporter": "python",
   "pygments_lexer": "ipython3",
   "version": "3.8.8"
  }
 },
 "nbformat": 4,
 "nbformat_minor": 5
}
